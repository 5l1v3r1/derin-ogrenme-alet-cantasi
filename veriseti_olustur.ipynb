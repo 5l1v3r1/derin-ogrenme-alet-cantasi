{
 "cells": [
  {
   "cell_type": "code",
   "execution_count": null,
   "metadata": {},
   "outputs": [],
   "source": [
    "# Arda Mavi (https://github.com/ardamavi) tarafından Deep Learning Türkiye topluluğu için hazırlanmıştır.\n",
    "\n",
    "import os\n",
    "import numpy as np\n",
    "from os import listdir\n",
    "from scipy.misc import imread, imresize\n",
    "from keras.utils import to_categorical\n",
    "from sklearn.model_selection import train_test_split"
   ]
  },
  {
   "cell_type": "code",
   "execution_count": null,
   "metadata": {
    "collapsed": true
   },
   "outputs": [],
   "source": [
    "resim_boyutu = 100\n",
    "renkli_resim = False # resimler renkli ise \"True\" seçin\n",
    "etiket_sayisi = 10 # sınıf sayısı\n",
    "test_verisi_orani = 0.2 # %20 test\n",
    "resimler_klasoru = 'resimler'\n",
    "veriseti_klasoru = 'veriseti'"
   ]
  },
  {
   "cell_type": "code",
   "execution_count": null,
   "metadata": {
    "collapsed": true
   },
   "outputs": [],
   "source": [
    "def resmi_al(resimler_klasoru):\n",
    "    resim = imread(resimler_klasoru, flatten=not renkli_resim)\n",
    "    resim = imresize(resim, (resim_boyutu, \n",
    "                             resim_boyutu, \n",
    "                             3 if renkli_resim else 1))\n",
    "    return resim"
   ]
  },
  {
   "cell_type": "code",
   "execution_count": null,
   "metadata": {
    "collapsed": true
   },
   "outputs": [],
   "source": [
    "etiketler = listdir(resimler_klasoru) \n",
    "X = []\n",
    "Y = []"
   ]
  },
  {
   "cell_type": "code",
   "execution_count": null,
   "metadata": {
    "collapsed": true,
    "scrolled": true
   },
   "outputs": [],
   "source": [
    "for i, etiket in enumerate(etiketler):\n",
    "    etiket_klasoru = resimler_klasoru+'/'+etiket\n",
    "\n",
    "    for resim_adi in listdir(etiket_klasoru):\n",
    "        resim = resmi_al(etiket_klasoru+'/'+resim_adi)\n",
    "        X.append(resim)\n",
    "        Y.append(i)"
   ]
  },
  {
   "cell_type": "code",
   "execution_count": null,
   "metadata": {
    "collapsed": true
   },
   "outputs": [],
   "source": [
    "X = 1-np.array(X).astype('float32')/255.\n",
    "Y = np.array(Y).astype('float32')\n",
    "Y = to_categorical(Y, etiket_sayisi)"
   ]
  },
  {
   "cell_type": "code",
   "execution_count": null,
   "metadata": {
    "collapsed": true
   },
   "outputs": [],
   "source": [
    "if not os.path.exists(veriseti_klasoru+'/'):\n",
    "    os.makedirs(veriseti_klasoru+'/')\n",
    "\n",
    "x_train, x_test, y_train, y_test = train_test_split(X, Y, test_size=test_verisi_orani, random_state=7)"
   ]
  },
  {
   "cell_type": "code",
   "execution_count": null,
   "metadata": {
    "collapsed": true
   },
   "outputs": [],
   "source": [
    "np.save(veriseti_klasoru+'/x_train.npy', x_train)\n",
    "np.save(veriseti_klasoru+'/x_test.npy', x_test)\n",
    "np.save(veriseti_klasoru+'/y_train.npy', y_train)\n",
    "np.save(veriseti_klasoru+'/y_test.npy', y_test)"
   ]
  }
 ],
 "metadata": {
  "kernelspec": {
   "display_name": "Python 3",
   "language": "python",
   "name": "python3"
  },
  "language_info": {
   "codemirror_mode": {
    "name": "ipython",
    "version": 3
   },
   "file_extension": ".py",
   "mimetype": "text/x-python",
   "name": "python",
   "nbconvert_exporter": "python",
   "pygments_lexer": "ipython3",
   "version": "3.6.2"
  }
 },
 "nbformat": 4,
 "nbformat_minor": 2
}
