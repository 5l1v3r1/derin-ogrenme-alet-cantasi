{
 "cells": [
  {
   "cell_type": "code",
   "execution_count": null,
   "metadata": {
    "collapsed": true
   },
   "outputs": [],
   "source": [
    "# bu araç ile zip'li dosyayı unzip yapabilirsiniz\n",
    "\n",
    "import zipfile\n",
    "\n",
    "dosya_adi = \"veriseti.zip\"\n",
    "cikarilacak_klasor = \"\" # aynı klasöre çıkartmak için boş bırakabilirsiniz\n",
    "\n",
    "with zipfile.ZipFile(dosya_adi,\"r\") as zip_ref:\n",
    "    zip_ref.extractall(cikarilacak_klasor)"
   ]
  }
 ],
 "metadata": {
  "kernelspec": {
   "display_name": "Python 3",
   "language": "python",
   "name": "python3"
  },
  "language_info": {
   "codemirror_mode": {
    "name": "ipython",
    "version": 3
   },
   "file_extension": ".py",
   "mimetype": "text/x-python",
   "name": "python",
   "nbconvert_exporter": "python",
   "pygments_lexer": "ipython3",
   "version": "3.5.4"
  }
 },
 "nbformat": 4,
 "nbformat_minor": 2
}
